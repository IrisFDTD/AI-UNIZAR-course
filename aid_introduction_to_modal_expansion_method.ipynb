{
  "cells": [
    {
      "cell_type": "markdown",
      "metadata": {
        "id": "view-in-github",
        "colab_type": "text"
      },
      "source": [
        "<a href=\"https://colab.research.google.com/github/IrisFDTD/AI-UNIZAR-course/blob/main/aid_introduction_to_modal_expansion_method.ipynb\" target=\"_parent\"><img src=\"https://colab.research.google.com/assets/colab-badge.svg\" alt=\"Open In Colab\"/></a>"
      ]
    },
    {
      "cell_type": "markdown",
      "source": [
        "<a href=\"https://colab.research.google.com/github/IrisFDTD/IrisME/blob/main/aid_introduction_to_modal_expansion_method.ipynb\" target=\"_parent\"><img src=\"https://colab.research.google.com/assets/colab-badge.svg\" alt=\"Open In Colab\"/></a>"
      ],
      "metadata": {
        "id": "c2CN3ukuQ2SM"
      }
    },
    {
      "cell_type": "markdown",
      "source": [
        "<a rel=\"license\" href=\"http://creativecommons.org/licenses/by-nc-sa/4.0/\"><img alt=\"Licencia Creative Commons\" style=\"border-width:0\" src=\"https://i.creativecommons.org/l/by-nc-sa/4.0/88x31.png\" /></a><br /><span xmlns:dct=\"http://purl.org/dc/terms/\" property=\"dct:title\"></span> The following notes written by  <span xmlns:cc=\"http://creativecommons.org/ns#\" property=\"cc:attributionName\">Sergio Gutiérrez Rodrigo (<sergut@unizar.es>) </span>. Distributed under  <a rel=\"license\" href=\"http://creativecommons.org/licenses/by-nc-sa/4.0/\">License Creative Commons Atribución-NoComercial-CompartirIgual 4.0 Internacional</a>"
      ],
      "metadata": {
        "id": "tYZjdh8TvE7-"
      }
    },
    {
      "cell_type": "markdown",
      "source": [
        "```\n",
        "Departamento de Física Aplicada\n",
        "Universidad de Zaragoza\n",
        "Instituto de Nanociencia y Materiales de Aragón (INMA)\n",
        "C/ Pedro Cerbuna, 12, 50009, Zaragoza, España\n",
        "```\n",
        "\n",
        "\n",
        "\n",
        "\n"
      ],
      "metadata": {
        "id": "j2H5UHGe1Uf8"
      }
    },
    {
      "cell_type": "markdown",
      "source": [
        "---\n",
        "# **AID - Tema 7 - Diffraction gratings in electromagnetic optics**\n",
        "\n",
        "---"
      ],
      "metadata": {
        "id": "D7vYGeB21ZQU"
      }
    },
    {
      "cell_type": "markdown",
      "metadata": {
        "id": "S2L-3XSsYBM4"
      },
      "source": [
        "*Modal Expansion*\n",
        "============\n",
        "***\n",
        "--------------------------------\n",
        "\n",
        "Within the Modal Expansion (ME), Maxwells equations are solved by expanding the electromagnetic (EM) fields in the different regions of space, transmission and reflection coefficients are thus calculated by imposing appropriate boundary conditions (see Ref. [1-2], and references therein). The whole space is divided in three regions: (I) the cover, (II) holes and, (III) the substrate. In regions (I) and (III) the EM fields are expanded in planes waves. In region (II) in terms of TE and TM waveguide eigenmodes. However, good convergence is attained in many situations only by considering the less decaying transversal electric mode. Within this minimal model results can be worked out analytically.  \n",
        "\n",
        "The ME method (on which *IrisME* is based) was developed in context of Extraordinary optical transmission (EOT) research [1]. Roughly speaking, EOT is a family of EM resonances through subwavelength apertures, in either a flat or a corrugated metallic film. These resonances provide high transmission of light, much more that would be expected for such tiny apertures as compared to the wavelength of light [3]. EOT was discovered in 1998 [5] and since then it has been a very active research field, leading both to the discovery of new ways of enhancing the optical transmission and to its application to sensing, color filters, metamaterials, lenses, optical trapping, enhancement of nonlinear effects, among others [5].\n",
        "\n",
        " *References:*\n",
        "\n",
        "[1] F.J. Garcia-Vidal, L. Martin-Moreno, T.W. Ebbesen, L. Kuipers, [*Light passing through subwavelength apertures*](https://journals.aps.org/rmp/abstract/10.1103/RevModPhys.82.729), Rev. Mod. Phys. 82, 729–787 (2010).\n",
        "\n",
        "[2] L. Martín-Moreno, F.J. García-Vidal, Minimal model for optical transmission through holey metal films, J. Phys.: Condens. Matter 20, 304214 (2008)\n",
        "\n",
        "[3] H. A. Bethe, [*Theory of difraction by small holes*](https://journals.aps.org/pr/abstract/10.1103/PhysRev.66.163), Phys. Rev. 66, 163–182 (1944).\n",
        "\n",
        "[4] T. W. Ebbesen, H. L. Lezec, H. F. Ghaemi, T. Thio, and P. A. Wolff, [*Extraordinary optical transmission through subwavelength\n",
        "hole arrays*](https://www.nature.com/articles/35570), Nature 391, 667–669 (1998).\n",
        "\n",
        "[5] S.G. Rodrigo, F. de León-Pérez, and L. Martín-Moreno, [*Extraordinary Optical Transmission: fundamentals and applications*](https://ieeexplore.ieee.org/document/7592449), Proceedings of the IEEE 104, 2288 (2016).\n",
        "\n",
        "***\n",
        "\n",
        "\n"
      ]
    },
    {
      "cell_type": "markdown",
      "source": [
        "# Main definitions for Perfect Electric Conductors (PEC)"
      ],
      "metadata": {
        "id": "UJSMLjn1SeQZ"
      }
    },
    {
      "cell_type": "code",
      "execution_count": 1,
      "metadata": {
        "id": "1t7_VFCJYBM8"
      },
      "outputs": [],
      "source": [
        "import numpy as np\n",
        "# Auxiliary functions\n",
        "def nsqrt(z):\n",
        "    z = z + 0j\n",
        "    rz = np.sqrt(z)\n",
        "    if np.imag(rz) < 0:\n",
        "        rz = - rz\n",
        "    return rz\n",
        "\n",
        "def sinc(x):\n",
        "    if x == 0:\n",
        "        sinc = 1\n",
        "    else:\n",
        "        sinc = np.sin(x) / x\n",
        "    return sinc\n",
        "\n",
        "# Propagation constant definition at each medium\n",
        "def g(lmbda):\n",
        "    '''\n",
        "    g=k0\n",
        "    '''\n",
        "    return 2 * np.pi / lmbda\n",
        "\n",
        "def kx(n):\n",
        "    delta_k=1e-10\n",
        "    return 2 * np.pi / Lx * n + delta_k\n",
        "\n",
        "def ky(m):\n",
        "    delta_k=1e-10\n",
        "    return 2 * np.pi / Ly * m + delta_k\n",
        "\n",
        "def kz(g, kx, ky,epsilon):\n",
        "    return nsqrt(epsilon * g**2 - (kx**2 + ky**2))\n",
        "\n",
        "def qz(g):\n",
        "    return nsqrt(epsilonII * g**2 - (np.pi / ay)**2)\n",
        "\n",
        "def Ys(g, kz):\n",
        "    return kz / g\n",
        "\n",
        "def Yp(g, kz, epsilon):\n",
        "    return (epsilon * g) / kz\n",
        "\n",
        "def e_qz(qz, h):\n",
        "    return np.exp(1j * qz * h)\n",
        "\n",
        "# Equation A.6: overlap between the incident plane wave an the fundamental mode\n",
        "# inside the hole\n",
        "def So(ax, ay, Lx, Ly):\n",
        "    return (2 * nsqrt(2)) / np.pi * nsqrt((ax * ay) / (Lx * Ly))\n",
        "\n",
        "def Io(epsilonI, So):\n",
        "    return 2.0 * nsqrt(epsilonI) * np.conj(So)\n",
        "\n",
        "# Equation A.5: overlap between the fundamental mode of the hole and free-space\n",
        "# propagating waves\n",
        "\n",
        "def Sp(kx, ky,ax,ay,Lx,Ly):\n",
        "    return -(4 * nsqrt(2) * ay * np.pi * np.cos((ay * ky) / 2) * np.sin((ax * kx) / 2)) / (\n",
        "        nsqrt(ax * ay) * nsqrt(kx**2 + ky**2) * nsqrt(Lx * Ly) * (-ay**2 * ky**2 + np.pi**2)\n",
        "    )\n",
        "\n",
        "def Ss(kx, ky,ax,ay,Lx,Ly):\n",
        "    return ((4 * nsqrt(2) * ay * ky * np.pi * np.cos((ay * ky) / 2) * np.sin((ax * kx) / 2)) / (\n",
        "        nsqrt(ax * ay) * kx * nsqrt(kx**2 + ky**2) * nsqrt(Lx * Ly) * (-ay**2 * ky**2 + np.pi**2)\n",
        "    ))\n",
        "\n",
        "def S_overlap(pol):\n",
        "    '''\n",
        "    Sk,sigma (Eq. A5): mismo efecto que Sp y Ss\n",
        "    pol=0 -> Sp\n",
        "    pol=1 -> Ss\n",
        "    '''\n",
        "    def Ss(kx, ky, ax,ay, Lx,Ly):\n",
        "        qy=np.pi/ay\n",
        "        if kx ==0 and ky == 0:\n",
        "            f = 0\n",
        "        else:\n",
        "            f = - ky / np.sqrt(kx**2 + ky**2)\n",
        "        c = nsqrt((ax * ay) / (Lx * Ly))/ np.sqrt(2.)\n",
        "        s = c * f * sinc(kx*ax/2) * (sinc((ky+qy)*ay/2) + sinc((ky-qy)*ay/2))\n",
        "        return s\n",
        "    def Sp(kx, ky, ax,ay, Lx,Ly):\n",
        "        qy=np.pi/ay\n",
        "        if kx ==0 and ky == 0:\n",
        "            f = 1\n",
        "        else:\n",
        "            f = kx / np.sqrt(kx**2 + ky**2)\n",
        "        c = nsqrt((ax * ay) / (Lx * Ly))/ np.sqrt(2.)\n",
        "        s = c * f * sinc(kx*ax/2) * (sinc((ky+qy)*ay/2) + sinc((ky-qy)*ay/2))\n",
        "        return s\n",
        "    if pol == 0:\n",
        "      return Sp\n",
        "    if pol == 1:\n",
        "      return Ss\n",
        "\n",
        "#Equation A.7: coupling between the input and output sides of the holes\n",
        "def Gv(lmbda, Ys, g, qz, e_qz,h):\n",
        "    g_lambda = g(lmbda)\n",
        "    qz_g_lambda = qz(g_lambda)\n",
        "    e_qz_g_lambda = e_qz(qz_g_lambda,h)\n",
        "    return Ys(g_lambda, qz_g_lambda) * 2.0/(e_qz_g_lambda - 1 / e_qz_g_lambda)\n",
        "\n",
        "# Equation A.8\n",
        "def Sigma(lmbda, Ys, g, qz, e_qz,h):\n",
        "    g_lambda = g(lmbda)\n",
        "    qz_g_lambda = qz(g_lambda)\n",
        "    e_qz_g_lambda = e_qz(qz_g_lambda,h)\n",
        "    numerator = e_qz_g_lambda + 1 / e_qz_g_lambda\n",
        "    denominator = e_qz_g_lambda - 1 / e_qz_g_lambda\n",
        "    return Ys(g_lambda, qz_g_lambda) * (numerator / denominator)\n",
        "\n",
        "# Main text : Green's functions\n",
        "def Gp(lmbda, g, Mo, Mf, No, Nf, kx, ky, kz, Yp, Sp, epsilon):\n",
        "    # Summation over (m = Mo to Mf, n = No to Nf)\n",
        "    sum=0.0+1j*0.0\n",
        "    for m in range(Mo, Mf+1):\n",
        "        for n in range(No,Nf+1):\n",
        "            y_term = Yp(g(lmbda), kz(g(lmbda), kx(n), ky(m),epsilon), epsilon)\n",
        "            sp_term = np.abs(Sp(kx(n), ky(m),ax,ay,Lx,Ly))**2\n",
        "            #sp_term=np.abs(overlap(kx(n), ky(m), pol=1, a=ax, L=Lx))**2\n",
        "            sum += y_term * sp_term\n",
        "    return sum\n",
        "\n",
        "def Gs(lmbda, g, Mo, Mf, No, Nf, kx, ky, kz, Ys, Ss, epsilon):\n",
        "    sum=0.0+1j*0\n",
        "    # Summation over (m = Mo to Mf, n = No to Nf)\n",
        "    for m in range(Mo, Mf+1):\n",
        "        for n in range(No,Nf+1):\n",
        "            ys_term = Ys(g(lmbda), kz(g(lmbda), kx(n), ky(m),epsilon))\n",
        "            ss_term = np.abs(Ss(kx(n), ky(m),ax,ay,Lx,Ly))**2\n",
        "            #ss_term=np.abs(overlap(kx(n), ky(m), pol=0, a=ax, L=Lx))**2\n",
        "            sum += ys_term * ss_term\n",
        "    return sum\n",
        "\n",
        "# Equations A.3 (where Ep = E') :  electric field amplitudes of the fundamental\n",
        "# mode at the input and output sides\n",
        "def E(Io,Gv, Sigma, Gsum, Gdif, GIII):\n",
        "    return (GIII - Sigma)*Io/((Gsum - Sigma)**2 - Gv**2 - Gdif**2)\n",
        "\n",
        "def Ep(Io,Gv,Sigma,Gsum,Gdif):\n",
        "    return Gv*Io/((Gsum - Sigma) ** 2 - Gv**2 - Gdif**2)\n",
        "\n",
        "# Equation A.9 : TRANSMISSION\n",
        "def T(Ep, GIII, epsilonI):\n",
        "    return nsqrt(1 / epsilonI) * np.real(GIII) * np.abs(Ep)**2\n",
        "\n",
        "# Equation A.10 : REFLECTION\n",
        "def R(E, GI, epsilonI,So):\n",
        "    return (-2 * np.real(So * E) + 1) + nsqrt(1 / epsilonI) * np.real(GI) * np.abs(E)**2"
      ]
    },
    {
      "cell_type": "markdown",
      "source": [
        "# Example: Extraordinary Optical Transmission (EOT)"
      ],
      "metadata": {
        "id": "0P0rQgucSqrK"
      }
    },
    {
      "cell_type": "markdown",
      "source": [
        "## A function to calculate optical spectra"
      ],
      "metadata": {
        "id": "1aoM050CfZrp"
      }
    },
    {
      "cell_type": "code",
      "source": [
        "def spectra_EOT(Lx,Ly,ax,ay,h,\n",
        "               epsilonI,epsilonII,epsilonIII,\n",
        "               No,Nf,Mo,Mf,\n",
        "               lambda0,lambdaf,Nlambda):\n",
        "    lambdas=np.linspace(lambda0,lambdaf,Nlambda)\n",
        "    t,r=[],[]\n",
        "    # Loop in wavelengths\n",
        "    for lmbda in lambdas:\n",
        "        So_=So(ax, ay, Lx, Ly)\n",
        "        S_over=S_overlap(0)\n",
        "        So_2=S_over(1e-10, 1e-10, ax,ay, Lx,Ly)\n",
        "        Sp=S_overlap(0)\n",
        "        Ss=S_overlap(1)\n",
        "        Io_=Io(epsilonI, So_)\n",
        "        Gv_=Gv(lmbda, Ys, g, qz, e_qz,h)\n",
        "        Sigma_=Sigma(lmbda, Ys, g, qz, e_qz,h)\n",
        "        GpI=Gp(lmbda, g, Mo, Mf, No, Nf, kx, ky, kz, Yp, Sp, epsilonI)\n",
        "        GsI=Gs(lmbda, g, Mo, Mf, No, Nf, kx, ky, kz, Ys, Ss, epsilonI)\n",
        "        GI=GpI+GsI\n",
        "        GpIII=Gp(lmbda, g, Mo, Mf, No, Nf, kx, ky, kz, Yp, Sp, epsilonIII)\n",
        "        GsIII=Gs(lmbda, g, Mo, Mf, No, Nf, kx, ky, kz, Ys, Ss, epsilonIII)\n",
        "        GIII=GpIII+GsIII\n",
        "        Gsum=(GI+GIII)/2.0\n",
        "        Gdif=(GI-GIII)/2.0\n",
        "        E_=E(Io_,Gv_, Sigma_, Gsum, Gdif, GIII)\n",
        "        r_=R(E_, GI, epsilonI,So_)\n",
        "        r.append(np.real(r_))\n",
        "        Ep_=Ep(Io_,Gv_,Sigma_,Gsum,Gdif)\n",
        "        t_= T(Ep_,GIII,epsilonI)\n",
        "        t.append(np.real(t_))\n",
        "    t=np.array(t,dtype='float32')\n",
        "    r=np.array(r,dtype='float32')\n",
        "    return lambdas,t,r"
      ],
      "metadata": {
        "id": "QudTTAESPY0F"
      },
      "execution_count": 2,
      "outputs": []
    },
    {
      "cell_type": "markdown",
      "source": [
        "## Input parameters (geometry, number of diffraction modes, dielectric constants, wavelength range)"
      ],
      "metadata": {
        "id": "TBrYfhEsS6KK"
      }
    },
    {
      "cell_type": "code",
      "source": [
        "# Geometrical parameters\n",
        "Lx, Ly, ax, ay, h = 0.5,0.5,0.250,0.250,0.2 #microns\n",
        "\n",
        "# Indexes of diffraction modes\n",
        "No, Nf, Mo, Mf = -1,1,0,0 # Minimal model (-1,1,0,0)\n",
        "\n",
        "# Dielectric constants\n",
        "epsilonI, epsilonII, epsilonIII =1.0,1.0,1.0\n",
        "\n",
        "# Wavelength window\n",
        "lambda0, lambdaf, Nlambda = 0.39,0.8,500"
      ],
      "metadata": {
        "id": "zrhCwDUSR_Iq"
      },
      "execution_count": null,
      "outputs": []
    },
    {
      "cell_type": "markdown",
      "source": [
        "## Graphic representation"
      ],
      "metadata": {
        "id": "IEcrnUeRSSOK"
      }
    },
    {
      "cell_type": "code",
      "source": [
        "# Transmission and reflection\n",
        "wl,t,r=spectra_EOT(Lx,Ly,ax,ay,h,\n",
        "               epsilonI,epsilonII,epsilonIII,\n",
        "               No,Nf,Mo,Mf,\n",
        "               lambda0,lambdaf,Nlambda)\n",
        "\n",
        "# Plot\n",
        "import matplotlib.pyplot as plt\n",
        "plt.plot(wl,t)\n",
        "plt.xlabel(r'$\\lambda$')\n",
        "plt.ylabel('Transmittance')\n",
        "plt.show()"
      ],
      "metadata": {
        "id": "OaP-7JoZTDoa"
      },
      "execution_count": null,
      "outputs": []
    },
    {
      "cell_type": "markdown",
      "source": [
        "# Realistic materials (only theory): Surface Impedance Boundary Condtions"
      ],
      "metadata": {
        "id": "47A_AhhmLWcH"
      }
    },
    {
      "cell_type": "markdown",
      "source": [
        "ME can take into account also realistic values for the dielectric\n",
        "constant of metals. The last is done by approximating the\n",
        "penetration into the metal surface by means of the\n",
        "Surface-Impedance Boundary-Conditions (SIBCs), except for the\n",
        "vertical walls of the holes which are treated as perfect conductor\n",
        "surfaces. Following the same procedure as for PEC metals it can be\n",
        "demonstrated the transmission formula found before holds\n",
        "also for real metals albeit redefining some\n",
        "quantities:\n",
        "\n",
        "\\begin{eqnarray}\n",
        " I_0 &=& \\frac{2\\imath\n",
        "Y_{\\bf{k_0},\\sigma_0}}{1+Z_s Y_{\\bf{k_0},\\sigma_0}} |\\langle{\\bf\n",
        "k_0}\\,\\sigma_0\\vert0\\rangle|^2\n",
        " \\\\\n",
        " G_v &=& \\frac{2 \\imath Y_0}{e^{\\imath q_z h}(1+Z_sY_0)^2-e^{-\\imath q_z\n",
        " h}(1-Z_sY_0)^2}  \\\\\n",
        " \\Sigma &=& \\imath Y_0\\frac{e^{\\imath q_z h}(1+Z_sY_0)+e^{-\\imath q_z h}(1-Z_sY_0)}{e^{\\imath q_z h}(1+Z_sY_0)^2-e^{-\\imath q_z\n",
        " h}(1-Z_sY_0)^2}  \\\\\n",
        " G&=&\\imath\\sum_{\\bf{ k}\\, \\sigma}\\frac{Y_{\\bf{k} \\, \\sigma}}{1+Z_s Y_{\\bf{k} \\, \\sigma}}|\\langle{\\bf\n",
        "k}\\,\\sigma\\vert 0\\rangle|^2\n",
        "\\end{eqnarray}\n",
        "where $Z_s=1/\\sqrt{\\varepsilon_m}$ ( being $\\varepsilon_m$ the\n",
        "dielectric constant of the metal), is termed Surface Impedance. The\n",
        "$0$-modal amplitudes of the electric field at the input and the\n",
        "output sides of the holes in this case are\n",
        "$E=A_0(1-Z_sY_0)+B_0(1+Z_sY_0)$ and $E'=-[A_0(1+Z_sY_0)e^{\\imath q_z\n",
        "h}+B_0(1-Z_sY_0)e^{-\\imath q_z h}]$.\n",
        "\n",
        "We would like to pay a bit more attention over how Maxwell's\n",
        "equations are approximated within SIBC. In the *CGS* system of\n",
        "units and considering harmonically oscillating fields ($\\sim\n",
        "e^{-\\imath \\omega t}$) inside metal\n",
        "\n",
        "\\begin{eqnarray}\n",
        "\\vec{E}=\\frac{i}{g \\varepsilon_m}\\nabla\\wedge\\vec{H}=\\frac{i}{g\n",
        "\\varepsilon_m} \\left(\n",
        "\\begin{matrix}\n",
        "  \\partial_y H_z-\\partial_z H_y \\\\\n",
        "  \\partial_z H_x-\\partial_x H_z \\\\\n",
        "  \\partial_x H_y-\\partial_y H_x\n",
        "\\end{matrix}\n",
        "\\right)\n",
        "\\end{eqnarray}\n",
        "\n",
        "\\begin{eqnarray}\n",
        "\\vec{E}_{//}=\\frac{i}{g\\varepsilon_m} \\left(\\begin{matrix}\n",
        "  \\partial_yH_z-\\partial_zH_y \\\\\n",
        "  \\partial_zH_x-\\partial_xH_z\n",
        "\\end{matrix}\\right)\\simeq \\frac{i}{g \\varepsilon_m}\\frac{\\partial}{\\partial{z}}\\left(\\begin{matrix}\n",
        "  -H_y \\\\\n",
        "  H_x\n",
        "\\end{matrix}\\right)  \\\\\n",
        "=\\frac{i}{g\n",
        "\\varepsilon_m}\\frac{\\partial}{\\partial{z}}[\\hat{u_z}\\wedge\\vec{H}_{//}]\n",
        "\\end{eqnarray}\n",
        "\n",
        "owing to EM fields quickly decay into metals, the derivative of\n",
        "fields along the direction perpendicular to the surface is dominant\n",
        "over the other ones\n",
        "\\begin{eqnarray}\n",
        "|\\partial_y H_z|&\\ll|&\\partial_zH_y|\\\\\n",
        "|\\partial_x H_z|&\\ll|&\\partial_zH_x|\n",
        "\\end{eqnarray}\n",
        "\n",
        "these are the so-called SIBCs that have been applied to\n",
        "obtain.\n",
        "\n",
        "We are looking for EM solutions inside the metal in the form of\n",
        "\n",
        "\\begin{eqnarray}\n",
        "\\vec{H}_{//}(\\vec{r})=\\vec{H}_oe^{i\\vec{k}\\vec{r}}\\\\\n",
        "\\vec{E}_{//}(\\vec{r})=\\vec{E}_oe^{i\\vec{k}\\vec{r}}\n",
        "\\end{eqnarray}\n",
        "\n",
        "where $\\vec k = (\\vec k_p,k_z)$.  "
      ],
      "metadata": {
        "id": "JBtdyCo8C_AZ"
      }
    },
    {
      "cell_type": "markdown",
      "source": [
        "Taking into account the last, we obtain the approximated relationship\n",
        "between $\\vec{E}_{//}$ and $\\vec{H}_{//}$:\n",
        "\n",
        "\\begin{eqnarray}\n",
        "\\vec{E}_{//}(\\vec{r})&\\approx&-\\frac{k_z^m}{g\\varepsilon_m}[\\hat{z}\\wedge\\vec{H}_{//}(\\vec{r})]\\\\\n",
        "\\vec{E}_o\n",
        "&\\approx&\\frac{k_z^m}{g\\varepsilon_m}[-\\hat{z}\\wedge\\vec{H}_o]=Z_s(g)[-\\hat{z}\\wedge\\vec{H}_o]\n",
        "\\end{eqnarray}\n",
        "\n",
        "Here $k_z^m=\\sqrt{\\varepsilon_m g^2 - k_{//}^2}$, and $\\hat z$ is a\n",
        "unitary vector pointing perpendicularly to the surface, from outside\n",
        "to inside the metal.\n",
        "\n",
        "Notice that, within SIBC the in-plane $E$-field is proportional to\n",
        "the in-plane $H$-field inside the metal. More importantly, since\n",
        "$\\vec E_{//}$ is continuous at the interface,\n",
        "$Z_s(g)[-\\hat{z}\\wedge\\vec{H}_{//}]$ will be continuous too. This is\n",
        "the key to improve ME from the PEC approximation to the SIBC\n",
        "approximation. In order to obtain the correspoding expressions we must\n",
        "impose a new set of boundary conditions, at $z=0$, namely $\\vert\n",
        "{\\bf E}_{\\rm I}\\, (z)\\rangle - Z_s(g)\\vert -{\\bf u_z} \\wedge {\\bf\n",
        "H}_{\\rm I}\\, (z)\\rangle$ must be continuous, while at $z=h$ the new\n",
        "boundary condition reads $\\vert {\\bf E}_{\\rm I}\\, (z)\\rangle +\n",
        "Z_s(g)\\vert -{\\bf u_z} \\wedge {\\bf H}_{\\rm I}\\, (z)\\rangle$. Note\n",
        "that $\\hat z = -{\\bf u_z}$ in the latter case.\n",
        "\n",
        "Finally, we would like to discuss how accurately SIBC represents\n",
        "optical properties of metals. Usually, when dealing with the SIBC\n",
        "approximation $k_z^m$ is approximated by $\\sqrt{\\varepsilon_m} g$,\n",
        "therefore $Z_s=1/\\sqrt{\\varepsilon_m}$. However, in order to\n",
        "efficiently incorporate SPPs we could approximate\n",
        "$k_z^m=\\sqrt{\\varepsilon_m g^2 - k_{SPP}^2}$ ( $k_{SPP}=g\n",
        "\\sqrt{\\frac{\\varepsilon \\varepsilon_m}{\\varepsilon +\n",
        "\\varepsilon_m}}$) obtaining an accurate surface impedance,\n",
        "$Z_s=1/\\sqrt{\\varepsilon+\\varepsilon_m}$."
      ],
      "metadata": {
        "id": "66w3SRjN-u7B"
      }
    },
    {
      "cell_type": "markdown",
      "source": [
        "![image.png](data:image/png;base64,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)"
      ],
      "metadata": {
        "id": "k_UItVoaNdY2"
      }
    },
    {
      "cell_type": "markdown",
      "source": [
        "*Figure 2: Transmission spectra at normal incidence through an array of square holes($d=500$nm, $a_x=a_y=250$nm and $h=200$nm) drilled on a free-standing silver film as calculated with a \"exact\" numerical method (Finite Difference Time Domain, FDTD) and ME. With ME the two approximations described for simulating metal properties (PEC and SIBC) are shown.*"
      ],
      "metadata": {
        "id": "Rc4xdjDF9MBZ"
      }
    },
    {
      "cell_type": "markdown",
      "source": [
        "In Fig. 2 we present an example of transmission\n",
        "spectra carried out with ME within the minimal model\n",
        "approximation (only one waveguide mode inside holes) and we show how\n",
        "it compares with the exact FDTD calculation. The structure is an\n",
        "array of square holes defined by the parameters $d=500$nm,\n",
        "$a_x=a_y=250$nm and $h=200$nm. The agreement between FDTD and ME is\n",
        "good. As expected, it is better for silver than for the PEC case.\n",
        "However, notice that these calculations are conducted under the\n",
        "following approximation: the hole walls are considered as PEC even\n",
        "when SIBC operates. In order to overcome the latter, in\n",
        "Fig. 2 the hole side is actually widened as much as\n",
        "one skin-depth to mimic the penetration of the EM fields into the\n",
        "metal walls. A better solution consists in using the propagation\n",
        "constant of the real metal waveguide."
      ],
      "metadata": {
        "id": "VoDKj6xk9JxF"
      }
    }
  ],
  "metadata": {
    "kernelspec": {
      "display_name": "Python 3",
      "language": "python",
      "name": "python3"
    },
    "language_info": {
      "codemirror_mode": {
        "name": "ipython",
        "version": 3
      },
      "file_extension": ".py",
      "mimetype": "text/x-python",
      "name": "python",
      "nbconvert_exporter": "python",
      "pygments_lexer": "ipython3",
      "version": "3.7.4"
    },
    "colab": {
      "provenance": [],
      "collapsed_sections": [
        "UJSMLjn1SeQZ",
        "1aoM050CfZrp",
        "TBrYfhEsS6KK",
        "IEcrnUeRSSOK",
        "47A_AhhmLWcH"
      ],
      "toc_visible": true,
      "include_colab_link": true
    }
  },
  "nbformat": 4,
  "nbformat_minor": 0
}