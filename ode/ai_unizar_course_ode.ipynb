{
  "cells": [
    {
      "cell_type": "markdown",
      "source": [
        "<a href=\"https://colab.research.google.com/github/IrisFDTD/AI-UNIZAR-course/blob/main/ode/ai_unizar_course_ode.ipynb\" target=\"_parent\"><img src=\"https://colab.research.google.com/assets/colab-badge.svg\" alt=\"Open In Colab\"/></a>"
      ],
      "metadata": {
        "id": "SmgrZED6XoHR"
      }
    },
    {
      "cell_type": "markdown",
      "source": [
        "<a rel=\"license\" href=\"http://creativecommons.org/licenses/by-nc-sa/4.0/\"><img alt=\"Licencia Creative Commons\" style=\"border-width:0\" src=\"https://i.creativecommons.org/l/by-nc-sa/4.0/88x31.png\" /></a><br /><span xmlns:dct=\"http://purl.org/dc/terms/\" property=\"dct:title\">*Introducción a la inteligencia artificial: redes neuronales avanzadas con Tensorflow-Keras*</span> por <span xmlns:cc=\"http://creativecommons.org/ns#\" property=\"cc:attributionName\">Sergio Gutiérrez Rodrigo (sergut@unizar.es)</span> se distribuye bajo una <a rel=\"license\" href=\"http://creativecommons.org/licenses/by-nc-sa/4.0/\">Licencia Creative Commons Atribución-NoComercial-CompartirIgual 4.0 Internacional</a>."
      ],
      "metadata": {
        "id": "XG9e-npYBL9o"
      }
    },
    {
      "cell_type": "markdown",
      "source": [
        "```\n",
        "Sergio G Rodrigo\n",
        "Departamento de Física Aplicada\n",
        "Universidad de Zaragoza\n",
        "Instituto de Nanociencia y Materiales de Aragón (INMA)\n",
        "C/ Pedro Cerbuna, 12, 50009, Zaragoza, España\n",
        "```\n",
        "\n",
        "\n",
        "\n",
        "\n"
      ],
      "metadata": {
        "id": "j2H5UHGe1Uf8"
      }
    },
    {
      "cell_type": "markdown",
      "source": [
        "# **Advanced Neural Networks with TensorFlow-Keras**"
      ],
      "metadata": {
        "id": "kbJnjUXlCUuh"
      }
    },
    {
      "cell_type": "markdown",
      "source": [
        "---\n",
        "#**Solving Ordinary Differential Equations with neural networks**\n",
        "---\n",
        "**Learn more about**: https://github.com/IrisFDTD/PINNs-for-education"
      ],
      "metadata": {
        "id": "viJV9O8QdYsR"
      }
    },
    {
      "cell_type": "code",
      "source": [
        "!pip install tensorflow==2.12.0"
      ],
      "metadata": {
        "id": "zUTCEBjt008-"
      },
      "execution_count": null,
      "outputs": []
    },
    {
      "cell_type": "markdown",
      "source": [
        "# Main libraries"
      ],
      "metadata": {
        "id": "ldbOHsWmP9n8"
      }
    },
    {
      "cell_type": "code",
      "execution_count": 2,
      "metadata": {
        "id": "m5zN_fiefMhh"
      },
      "outputs": [],
      "source": [
        "# Tensorflow Keras and rest of the packages\n",
        "import tensorflow as tf\n",
        "from tensorflow.keras import Model\n",
        "from tensorflow.keras.layers import Input,Dense\n",
        "from tensorflow.keras.optimizers import Adam\n",
        "import numpy as np\n",
        "import matplotlib.pyplot as plt"
      ]
    },
    {
      "cell_type": "markdown",
      "source": [
        "# Tensorflow-Keras Model from scratch"
      ],
      "metadata": {
        "id": "GSMHXyxqgaq_"
      }
    },
    {
      "cell_type": "code",
      "source": [
        "class Model_from_scratch(tf.keras.Model):\n",
        "    def train_step(self, data):\n",
        "        # Training points and the analytical (exact) solution at this points\n",
        "        x, y_exact = data\n",
        "        # Calculate the gradients and update weights and bias\n",
        "        with tf.GradientTape() as tape:\n",
        "            y_NN  = self(x, training=True)\n",
        "            loss=self.compiled_loss(y_exact,y_NN)\n",
        "        gradients = tape.gradient(loss, self.trainable_weights)\n",
        "        self.optimizer.apply_gradients(zip(gradients, self.trainable_weights))\n",
        "        self.compiled_metrics.update_state(y_exact, y_NN)\n",
        "        return {m.name: m.result() for m in self.metrics}"
      ],
      "metadata": {
        "id": "0Sc-JgTWgaML"
      },
      "execution_count": 3,
      "outputs": []
    },
    {
      "cell_type": "markdown",
      "metadata": {
        "id": "9k6aCnLShFq0"
      },
      "source": [
        "#  Tensorflow-Keras Model for Ordinary Differential Equations"
      ]
    },
    {
      "cell_type": "markdown",
      "source": [
        "## Example: 1st order Ordinary Differential Equation\n",
        "$y'(x)+y(x)=0 \\hspace{0.3cm} with \\hspace{0.3cm} 0 < x < 4 $\n",
        "            \n",
        "$y(0)=1$\n",
        "\n",
        "*solution:  $y(x)=\\exp(-x)$*\n"
      ],
      "metadata": {
        "id": "Ph46sxGMyNxj"
      }
    },
    {
      "cell_type": "markdown",
      "source": [
        "![image.png](data:image/png;base64,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)"
      ],
      "metadata": {
        "id": "lwjaGs_n2d3W"
      }
    },
    {
      "cell_type": "code",
      "execution_count": 4,
      "metadata": {
        "id": "cbdSBpTnrmSV"
      },
      "outputs": [],
      "source": [
        "class Model_ODE(tf.keras.Model):\n",
        "    def train_step(self, data):\n",
        "        # Training points and the analytical (exact) solution at this points\n",
        "        x, y_exact = data\n",
        "        # Initial conditions for the ODE-NN\n",
        "        x0=tf.constant([0.0], dtype=tf.float32)\n",
        "        y0_exact=tf.constant([1.0], dtype=tf.float32)\n",
        "        # Calculate the gradients and update weights and bias\n",
        "        with tf.GradientTape() as tape:\n",
        "            # Calculate the gradients dy/dx\n",
        "            with tf.GradientTape() as tape2:\n",
        "              tape2.watch(x0)\n",
        "              tape2.watch(x)\n",
        "              y0_NN = self(x0, training=True)\n",
        "              y_NN  = self(x, training=True)\n",
        "            dy_dx_NN= tape2.gradient(y_NN,x)\n",
        "            #Loss= ODE+ boundary/initial conditions\n",
        "            loss=self.compiled_loss(dy_dx_NN, -y_NN)\\\n",
        "                +self.compiled_loss(y0_NN,y0_exact)\n",
        "        gradients = tape.gradient(loss, self.trainable_weights)\n",
        "        self.optimizer.apply_gradients(zip(gradients, self.trainable_weights))\n",
        "        self.compiled_metrics.update_state(y_exact, y_NN)\n",
        "        return {m.name: m.result() for m in self.metrics}"
      ]
    },
    {
      "cell_type": "markdown",
      "metadata": {
        "id": "PUc4dJ4DhKn8"
      },
      "source": [
        "## Training data"
      ]
    },
    {
      "cell_type": "markdown",
      "source": [
        "Function $y(x)=exp(-x)$, trained in the range $x \\in [0,x_{max}]$."
      ],
      "metadata": {
        "id": "qM8c5iSaik3a"
      }
    },
    {
      "cell_type": "code",
      "source": [
        "n_train = 20\n",
        "xmin = 0\n",
        "xmax = 4\n",
        "\n",
        "# Definition of the function domain\n",
        "x_train=np.linspace(xmin,xmax,n_train)\n",
        "\n",
        "# The real solution y(x) for training evaluation\n",
        "y_train=np.exp(-x_train)"
      ],
      "metadata": {
        "id": "c5KL6vzuMYfN"
      },
      "execution_count": 5,
      "outputs": []
    },
    {
      "cell_type": "markdown",
      "source": [
        "# Hyperparameters"
      ],
      "metadata": {
        "id": "SBtmCa4NMd4I"
      }
    },
    {
      "cell_type": "code",
      "source": [
        "# Hiperparameters\n",
        "epochs = 100\n",
        "lr=0.001"
      ],
      "metadata": {
        "id": "LEtONDjMMggV"
      },
      "execution_count": 6,
      "outputs": []
    },
    {
      "cell_type": "markdown",
      "source": [
        "# Define the Tensorflow-Keras model"
      ],
      "metadata": {
        "id": "R0Dl6mK-NMHk"
      }
    },
    {
      "cell_type": "markdown",
      "source": [
        "+ **Regression**--> use *Model()* or *Model_from_scratch()*\n",
        "+ **ODE**: use *Model_ODE()*"
      ],
      "metadata": {
        "id": "UGRBUJMhidq7"
      }
    },
    {
      "cell_type": "code",
      "source": [
        "# Define the Keras layers\n",
        "input=Input(shape=(1,))\n",
        "x=Dense(50, activation='elu')(input)\n",
        "x=Dense(50, activation='elu')(x)\n",
        "output = Dense(1,activation=None)(x)\n",
        "\n",
        "# Set the model\n",
        "#model=Model(input,output)\n",
        "#model=Model_from_scratch(input,output)\n",
        "model=Model_ODE(input,output)\n",
        "\n",
        "model.summary()"
      ],
      "metadata": {
        "id": "xiqyedwPNTLs",
        "colab": {
          "base_uri": "https://localhost:8080/"
        },
        "outputId": "d520406e-2787-4e40-e710-297cb8cedc65"
      },
      "execution_count": 21,
      "outputs": [
        {
          "output_type": "stream",
          "name": "stdout",
          "text": [
            "Model: \"model_ode\"\n",
            "_________________________________________________________________\n",
            " Layer (type)                Output Shape              Param #   \n",
            "=================================================================\n",
            " input_3 (InputLayer)        [(None, 1)]               0         \n",
            "                                                                 \n",
            " dense_6 (Dense)             (None, 50)                100       \n",
            "                                                                 \n",
            " dense_7 (Dense)             (None, 50)                2550      \n",
            "                                                                 \n",
            " dense_8 (Dense)             (None, 1)                 51        \n",
            "                                                                 \n",
            "=================================================================\n",
            "Total params: 2,701\n",
            "Trainable params: 2,701\n",
            "Non-trainable params: 0\n",
            "_________________________________________________________________\n"
          ]
        }
      ]
    },
    {
      "cell_type": "markdown",
      "source": [
        "# Metrics, optimizer and loss"
      ],
      "metadata": {
        "id": "ZQjYIrVPMxq0"
      }
    },
    {
      "cell_type": "code",
      "source": [
        "# Definition of the metrics, optimizer and loss\n",
        "loss= tf.keras.losses.MeanSquaredError()\n",
        "metrics=tf.keras.metrics.MeanSquaredError()\n",
        "optimizer= Adam(learning_rate=lr)\n",
        "\n",
        "model.compile(loss=loss,\n",
        "          optimizer=optimizer,\n",
        "          metrics=[metrics])"
      ],
      "metadata": {
        "id": "4kG68sptMvA3"
      },
      "execution_count": 22,
      "outputs": []
    },
    {
      "cell_type": "markdown",
      "source": [
        "# Run the model"
      ],
      "metadata": {
        "id": "CA03wJb4M4dG"
      }
    },
    {
      "cell_type": "code",
      "source": [
        "history=model.fit(x_train, y_train,batch_size=1,epochs=epochs)"
      ],
      "metadata": {
        "id": "KD7AjEYRM4kE"
      },
      "execution_count": null,
      "outputs": []
    },
    {
      "cell_type": "markdown",
      "source": [
        "##  Evolution of losses during training"
      ],
      "metadata": {
        "id": "Yap3PTRi4Rhp"
      }
    },
    {
      "cell_type": "code",
      "source": [
        "loss_vs_epochs,metrics_vs_epochs=history.history.keys()\n",
        "print(loss_vs_epochs,metrics_vs_epochs)"
      ],
      "metadata": {
        "id": "mzUi4vJcGHgK",
        "colab": {
          "base_uri": "https://localhost:8080/"
        },
        "outputId": "428adf6f-ba9f-45d9-90ef-f41e09ed3e67"
      },
      "execution_count": 24,
      "outputs": [
        {
          "output_type": "stream",
          "name": "stdout",
          "text": [
            "loss mean_squared_error\n"
          ]
        }
      ]
    },
    {
      "cell_type": "code",
      "execution_count": 29,
      "metadata": {
        "id": "du_bMDsq7Hr5",
        "colab": {
          "base_uri": "https://localhost:8080/",
          "height": 231
        },
        "outputId": "e3f5314f-e832-4b55-8795-23d8e7b213ca"
      },
      "outputs": [
        {
          "output_type": "display_data",
          "data": {
            "text/plain": [
              "<Figure size 320x240 with 1 Axes>"
            ],
            "image/png": "[encoded data removed]"
          },
          "metadata": {}
        }
      ],
      "source": [
        "# summarize history for loss and metris\n",
        "plt.rcParams['figure.dpi'] = 50\n",
        "plt.plot(history.history[loss_vs_epochs],\n",
        "         color='magenta',\n",
        "         label=loss_vs_epochs)\n",
        "plt.plot(history.history[metrics_vs_epochs],\n",
        "         color='cyan',\n",
        "         label=metrics_vs_epochs,linestyle='--')\n",
        "plt.yscale(\"log\")\n",
        "plt.xlabel('epochs')\n",
        "plt.legend(loc='upper right')\n",
        "plt.show()"
      ]
    },
    {
      "cell_type": "markdown",
      "source": [
        "# Validation: $y(x)$ vs $y_{NN}(x)$ and its derivatives"
      ],
      "metadata": {
        "id": "DSqGs-Xa4W5J"
      }
    },
    {
      "cell_type": "markdown",
      "source": [
        "## A function to calculate the gradients using a Keras model"
      ],
      "metadata": {
        "id": "s4azNRWRf3cc"
      }
    },
    {
      "cell_type": "code",
      "source": [
        "def get_gradients(model,x):\n",
        "  '''\n",
        "  The gradients y'(x) and y''(x) from the model\n",
        "  '''\n",
        "  x = tf.convert_to_tensor(x, dtype=tf.float32)\n",
        "  with tf.GradientTape(persistent=True) as t:\n",
        "    t.watch(x)\n",
        "    with tf.GradientTape(persistent=True) as t2:\n",
        "          t2.watch(x)\n",
        "          y = model(x)\n",
        "    dy_dx = t2.gradient(y,x)\n",
        "  d2y_dx2 = t.gradient(dy_dx,x)\n",
        "  return dy_dx,d2y_dx2"
      ],
      "metadata": {
        "id": "j59CLvlDkqID"
      },
      "execution_count": 26,
      "outputs": []
    },
    {
      "cell_type": "markdown",
      "source": [
        "## Plot the results"
      ],
      "metadata": {
        "id": "wIplNvejloMb"
      }
    },
    {
      "cell_type": "code",
      "execution_count": 28,
      "metadata": {
        "colab": {
          "base_uri": "https://localhost:8080/",
          "height": 449
        },
        "id": "RsJj5gicf3cc",
        "outputId": "3623524b-4f5d-4bb3-97cb-f46d663e8e82"
      },
      "outputs": [
        {
          "output_type": "display_data",
          "data": {
            "text/plain": [
              "<Figure size 640x480 with 1 Axes>"
            ],
            "image/png": "[encoded data removed]"
          },
          "metadata": {}
        }
      ],
      "source": [
        "# Check the ODE-NN at different points not included in the training set\n",
        "n = 500\n",
        "x=np.linspace(0,4,n)\n",
        "y_exact=tf.exp(-x)\n",
        "y_NN=model.predict(x,verbose=0)\n",
        "\n",
        "dy_dx_NN,d2y_dx2_NN=get_gradients(model,x)\n",
        "\n",
        "# Plot the results\n",
        "plt.rcParams['figure.dpi'] = 100\n",
        "plt.plot(x, y_exact, color=\"black\",linestyle='solid',\n",
        "                     linewidth=2.5,label=\"$y(x)$ analytical\")\n",
        "plt.plot(x, y_NN, color=\"red\",linestyle='dashed',\n",
        "                     linewidth=2.5, label=\"$y_{NN}(x)$\")\n",
        "plt.plot(x, dy_dx_NN, color=\"blue\",linestyle='-.',\n",
        "                     linewidth=3.0, label=\"$y'_{NN}(x)$\")\n",
        "plt.plot(x, d2y_dx2_NN, color=\"green\", linestyle='dotted',\n",
        "                     linewidth=3.0, label=\"$y''_{NN}(x)$\")\n",
        "plt.legend()\n",
        "plt.xlabel(\"x\")\n",
        "plt.show()"
      ]
    }
  ],
  "metadata": {
    "colab": {
      "provenance": [],
      "toc_visible": true
    },
    "kernelspec": {
      "display_name": "Python 3",
      "language": "python",
      "name": "python3"
    },
    "language_info": {
      "codemirror_mode": {
        "name": "ipython",
        "version": 3
      },
      "file_extension": ".py",
      "mimetype": "text/x-python",
      "name": "python",
      "nbconvert_exporter": "python",
      "pygments_lexer": "ipython3",
      "version": "3.7.6"
    }
  },
  "nbformat": 4,
  "nbformat_minor": 0
}